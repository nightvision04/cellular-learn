{
 "cells": [
  {
   "cell_type": "code",
   "execution_count": 1,
   "metadata": {},
   "outputs": [],
   "source": [
    "import numpy as np\n",
    "from sklearn.model_selection import train_test_split\n",
    "from sklearn.datasets import load_iris\n",
    "X, y = load_iris(return_X_y=True)\n",
    "y = np.array(y).reshape(150, 1)\n",
    "\n",
    "X_train, X_test, y_train, y_test = train_test_split(\n",
    "X, y, test_size=0.30)"
   ]
  },
  {
   "cell_type": "code",
   "execution_count": 2,
   "metadata": {
    "scrolled": false
   },
   "outputs": [
    {
     "name": "stdout",
     "output_type": "stream",
     "text": [
      "Depth: 20\n"
     ]
    },
    {
     "name": "stderr",
     "output_type": "stream",
     "text": [
      "C:\\Users\\dscott\\Documents\\cellular-learn\\CellularModel.py:867: RuntimeWarning: invalid value encountered in true_divide\n",
      "  y_pred_proba = y_pred_sums.astype(float) / y_pred_sums.astype(float).sum()\n"
     ]
    },
    {
     "name": "stdout",
     "output_type": "stream",
     "text": [
      "Generation: 1 Fitness: 0.66\n"
     ]
    },
    {
     "name": "stderr",
     "output_type": "stream",
     "text": [
      "C:\\Users\\dscott\\Documents\\cellular-learn\\CellularModel.py:867: RuntimeWarning: invalid value encountered in true_divide\n",
      "  y_pred_proba = y_pred_sums.astype(float) / y_pred_sums.astype(float).sum()\n"
     ]
    },
    {
     "name": "stdout",
     "output_type": "stream",
     "text": [
      "Generation: 2 Fitness: 0.56\n",
      "Generation: 3 Fitness: 0.5\n",
      "Generation: 4 Fitness: 0.41\n",
      "Generation: 5 Fitness: 0.47\n",
      "Generation: 6 Fitness: 0.5\n",
      "Generation: 7 Fitness: 0.44\n",
      "Generation: 8 Fitness: 0.41\n",
      "Generation: 9 Fitness: 0.56\n",
      "Generation: 10 Fitness: 0.53\n",
      "Generation: 11 Fitness: 0.44\n",
      "Generation: 12 Fitness: 0.38\n",
      "Generation: 13 Fitness: 0.59\n",
      "Generation: 14 Fitness: 0.56\n",
      "Generation: 15 Fitness: 0.5\n",
      "Generation: 16 Fitness: 0.5\n",
      "Generation: 17 Fitness: 0.59\n",
      "Generation: 18 Fitness: 0.53\n",
      "Generation: 19 Fitness: 0.47\n",
      "Generation: 20 Fitness: 0.5\n",
      "Generation: 21 Fitness: 0.47\n",
      "Generation: 22 Fitness: 0.34\n",
      "Generation: 23 Fitness: 0.34\n",
      "Generation: 24 Fitness: 0.66\n",
      "Generation: 25 Fitness: 0.59\n",
      "Generation: 26 Fitness: 0.53\n",
      "Generation: 27 Fitness: 0.53\n",
      "Generation: 28 Fitness: 0.56\n",
      "Generation: 29 Fitness: 0.56\n",
      "Generation: 30 Fitness: 0.41\n",
      "Generation: 31 Fitness: 0.44\n",
      "Generation: 32 Fitness: 0.38\n",
      "Generation: 33 Fitness: 0.62\n",
      "Generation: 34 Fitness: 0.34\n",
      "Generation: 35 Fitness: 0.5\n",
      "Generation: 36 Fitness: 0.5\n",
      "Generation: 37 Fitness: 0.34\n",
      "Generation: 38 Fitness: 0.53\n",
      "Generation: 39 Fitness: 0.53\n",
      "Generation: 40 Fitness: 0.47\n",
      "Generation: 41 Fitness: 0.53\n",
      "Generation: 42 Fitness: 0.44\n",
      "Generation: 43 Fitness: 0.47\n",
      "Generation: 44 Fitness: 0.53\n",
      "Generation: 45 Fitness: 0.62\n",
      "Generation: 46 Fitness: 0.38\n"
     ]
    },
    {
     "data": {
      "text/plain": [
       "<CellularModel.CellularModel at 0x20da3f89c48>"
      ]
     },
     "execution_count": 2,
     "metadata": {},
     "output_type": "execute_result"
    }
   ],
   "source": [
    "from CellularModel import CellularModel\n",
    "model = CellularModel(fitness_func='accuracy',\n",
    "                      N=150,\n",
    "                      mutate_proba=0.001,\n",
    "                      min_depth=20,\n",
    "                      max_depth=20,\n",
    "                      max_epochs=45,\n",
    "                      auto_plot=True,\n",
    "                      experimental_mode=True,\n",
    "                      components=3)\n",
    "model.fit(X_train,y_train)"
   ]
  },
  {
   "cell_type": "code",
   "execution_count": 4,
   "metadata": {},
   "outputs": [
    {
     "data": {
      "text/plain": [
       "0.14942528735632185"
      ]
     },
     "execution_count": 4,
     "metadata": {},
     "output_type": "execute_result"
    }
   ],
   "source": [
    "y_pred = model.predict(X_test,plot=True)\n",
    "from sklearn.metrics import f1_score\n",
    "f1_score(y_test, y_pred, average='macro')"
   ]
  },
  {
   "cell_type": "code",
   "execution_count": null,
   "metadata": {},
   "outputs": [],
   "source": []
  },
  {
   "cell_type": "code",
   "execution_count": null,
   "metadata": {},
   "outputs": [],
   "source": []
  }
 ],
 "metadata": {
  "kernelspec": {
   "display_name": "Python 3",
   "language": "python",
   "name": "python3"
  },
  "language_info": {
   "codemirror_mode": {
    "name": "ipython",
    "version": 3
   },
   "file_extension": ".py",
   "mimetype": "text/x-python",
   "name": "python",
   "nbconvert_exporter": "python",
   "pygments_lexer": "ipython3",
   "version": "3.7.7"
  }
 },
 "nbformat": 4,
 "nbformat_minor": 2
}

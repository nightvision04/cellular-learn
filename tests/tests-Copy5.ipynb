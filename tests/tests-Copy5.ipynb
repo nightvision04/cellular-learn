{
 "cells": [
  {
   "cell_type": "code",
   "execution_count": 1,
   "metadata": {},
   "outputs": [],
   "source": [
    "import numpy as np\n",
    "from sklearn.model_selection import train_test_split\n",
    "from sklearn.datasets import load_iris\n",
    "X, y = load_iris(return_X_y=True)\n",
    "y = np.array(y).reshape(150, 1)\n",
    "\n",
    "X_train, X_test, y_train, y_test = train_test_split(\n",
    "X, y, test_size=0.30)"
   ]
  },
  {
   "cell_type": "code",
   "execution_count": 2,
   "metadata": {
    "scrolled": false
   },
   "outputs": [
    {
     "name": "stdout",
     "output_type": "stream",
     "text": [
      "Depth: 20\n"
     ]
    },
    {
     "name": "stderr",
     "output_type": "stream",
     "text": [
      "C:\\Users\\dscott\\Documents\\cellular-learn\\CellularModel.py:867: RuntimeWarning: invalid value encountered in true_divide\n",
      "  y_pred_proba = y_pred_sums.astype(float) / y_pred_sums.astype(float).sum()\n"
     ]
    },
    {
     "name": "stdout",
     "output_type": "stream",
     "text": [
      "Generation: 1 Fitness: 0.44\n"
     ]
    },
    {
     "name": "stderr",
     "output_type": "stream",
     "text": [
      "C:\\Users\\dscott\\Documents\\cellular-learn\\CellularModel.py:867: RuntimeWarning: invalid value encountered in true_divide\n",
      "  y_pred_proba = y_pred_sums.astype(float) / y_pred_sums.astype(float).sum()\n"
     ]
    },
    {
     "name": "stdout",
     "output_type": "stream",
     "text": [
      "Generation: 2 Fitness: 0.44\n",
      "Generation: 3 Fitness: 0.34\n",
      "Generation: 4 Fitness: 0.47\n",
      "Generation: 5 Fitness: 0.53\n",
      "Generation: 6 Fitness: 0.44\n",
      "Generation: 7 Fitness: 0.53\n",
      "Generation: 8 Fitness: 0.59\n",
      "Generation: 9 Fitness: 0.62\n",
      "Generation: 10 Fitness: 0.5\n",
      "Generation: 11 Fitness: 0.44\n",
      "Generation: 12 Fitness: 0.38\n",
      "Generation: 13 Fitness: 0.53\n",
      "Generation: 14 Fitness: 0.47\n",
      "Generation: 15 Fitness: 0.38\n",
      "Generation: 16 Fitness: 0.34\n",
      "Generation: 17 Fitness: 0.31\n",
      "Generation: 18 Fitness: 0.53\n",
      "Generation: 19 Fitness: 0.53\n",
      "Generation: 20 Fitness: 0.34\n",
      "Generation: 21 Fitness: 0.53\n",
      "Generation: 22 Fitness: 0.59\n",
      "Generation: 23 Fitness: 0.53\n",
      "Generation: 24 Fitness: 0.34\n",
      "Generation: 25 Fitness: 0.44\n",
      "Generation: 26 Fitness: 0.56\n",
      "Generation: 27 Fitness: 0.44\n",
      "Generation: 28 Fitness: 0.59\n",
      "Generation: 29 Fitness: 0.44\n",
      "Generation: 30 Fitness: 0.38\n",
      "Generation: 31 Fitness: 0.38\n",
      "Generation: 32 Fitness: 0.41\n",
      "Generation: 33 Fitness: 0.5\n",
      "Generation: 34 Fitness: 0.53\n",
      "Generation: 35 Fitness: 0.5\n",
      "Generation: 36 Fitness: 0.34\n",
      "Generation: 37 Fitness: 0.34\n",
      "Generation: 38 Fitness: 0.31\n",
      "Generation: 39 Fitness: 0.34\n",
      "Generation: 40 Fitness: 0.47\n",
      "Generation: 41 Fitness: 0.34\n",
      "Generation: 42 Fitness: 0.53\n",
      "Generation: 43 Fitness: 0.69\n",
      "Generation: 44 Fitness: 0.47\n",
      "Generation: 45 Fitness: 0.53\n",
      "Generation: 46 Fitness: 0.59\n"
     ]
    },
    {
     "data": {
      "text/plain": [
       "<CellularModel.CellularModel at 0x1b7603a0588>"
      ]
     },
     "execution_count": 2,
     "metadata": {},
     "output_type": "execute_result"
    }
   ],
   "source": [
    "from CellularModel import CellularModel\n",
    "model = CellularModel(fitness_func='accuracy',\n",
    "                      N=150,\n",
    "                      mutate_proba=0.001,\n",
    "                      min_depth=20,\n",
    "                      max_depth=20,\n",
    "                      max_epochs=45,\n",
    "                      auto_plot=True,\n",
    "                      experimental_mode=True,\n",
    "                      components=3)\n",
    "model.fit(X_train,y_train)"
   ]
  },
  {
   "cell_type": "code",
   "execution_count": 3,
   "metadata": {},
   "outputs": [
    {
     "ename": "AssertionError",
     "evalue": "To use .predict(plot=True), pip install pygame",
     "output_type": "error",
     "traceback": [
      "\u001b[1;31m---------------------------------------------------------------------------\u001b[0m",
      "\u001b[1;31mAssertionError\u001b[0m                            Traceback (most recent call last)",
      "\u001b[1;32m<ipython-input-3-8f15fc64ebeb>\u001b[0m in \u001b[0;36m<module>\u001b[1;34m\u001b[0m\n\u001b[0;32m      4\u001b[0m     \u001b[0mf1\u001b[0m \u001b[1;33m=\u001b[0m \u001b[0mf1_score\u001b[0m\u001b[1;33m(\u001b[0m\u001b[0my\u001b[0m\u001b[1;33m,\u001b[0m \u001b[0my_pred\u001b[0m\u001b[1;33m,\u001b[0m \u001b[0maverage\u001b[0m\u001b[1;33m=\u001b[0m\u001b[1;34m'macro'\u001b[0m\u001b[1;33m)\u001b[0m\u001b[1;33m\u001b[0m\u001b[1;33m\u001b[0m\u001b[0m\n\u001b[1;32m----> 5\u001b[1;33m     \u001b[1;32massert\u001b[0m \u001b[0mf1\u001b[0m \u001b[1;33m>\u001b[0m\u001b[1;36m0.99\u001b[0m\u001b[1;33m,\u001b[0m \u001b[1;34m'Expected an f1_score greater than 0.99 for simple case but got: {}'\u001b[0m\u001b[1;33m.\u001b[0m\u001b[0mformat\u001b[0m\u001b[1;33m(\u001b[0m\u001b[0mf1\u001b[0m\u001b[1;33m)\u001b[0m\u001b[1;33m\u001b[0m\u001b[1;33m\u001b[0m\u001b[0m\n\u001b[0m\u001b[0;32m      6\u001b[0m     \u001b[0mprint\u001b[0m\u001b[1;33m(\u001b[0m\u001b[1;34m'f1score'\u001b[0m\u001b[1;33m,\u001b[0m\u001b[0mf1_score\u001b[0m\u001b[1;33m(\u001b[0m\u001b[0my\u001b[0m\u001b[1;33m,\u001b[0m \u001b[0my_pred\u001b[0m\u001b[1;33m,\u001b[0m \u001b[0maverage\u001b[0m\u001b[1;33m=\u001b[0m\u001b[1;34m'macro'\u001b[0m\u001b[1;33m)\u001b[0m\u001b[1;33m)\u001b[0m\u001b[1;33m\u001b[0m\u001b[1;33m\u001b[0m\u001b[0m\n",
      "\u001b[1;31mAssertionError\u001b[0m: Expected an f1_score greater than 0.99 for simple case but got: 0.16666666666666666",
      "\nDuring handling of the above exception, another exception occurred:\n",
      "\u001b[1;31mAssertionError\u001b[0m                            Traceback (most recent call last)",
      "\u001b[1;32m<ipython-input-3-8f15fc64ebeb>\u001b[0m in \u001b[0;36m<module>\u001b[1;34m\u001b[0m\n\u001b[0;32m      6\u001b[0m     \u001b[0mprint\u001b[0m\u001b[1;33m(\u001b[0m\u001b[1;34m'f1score'\u001b[0m\u001b[1;33m,\u001b[0m\u001b[0mf1_score\u001b[0m\u001b[1;33m(\u001b[0m\u001b[0my\u001b[0m\u001b[1;33m,\u001b[0m \u001b[0my_pred\u001b[0m\u001b[1;33m,\u001b[0m \u001b[0maverage\u001b[0m\u001b[1;33m=\u001b[0m\u001b[1;34m'macro'\u001b[0m\u001b[1;33m)\u001b[0m\u001b[1;33m)\u001b[0m\u001b[1;33m\u001b[0m\u001b[1;33m\u001b[0m\u001b[0m\n\u001b[0;32m      7\u001b[0m \u001b[1;32mexcept\u001b[0m\u001b[1;33m:\u001b[0m\u001b[1;33m\u001b[0m\u001b[1;33m\u001b[0m\u001b[0m\n\u001b[1;32m----> 8\u001b[1;33m     \u001b[1;32mraise\u001b[0m \u001b[0mAssertionError\u001b[0m\u001b[1;33m(\u001b[0m\u001b[1;34m'To use .predict(plot=True), pip install pygame'\u001b[0m\u001b[1;33m)\u001b[0m\u001b[1;33m\u001b[0m\u001b[1;33m\u001b[0m\u001b[0m\n\u001b[0m",
      "\u001b[1;31mAssertionError\u001b[0m: To use .predict(plot=True), pip install pygame"
     ]
    }
   ],
   "source": [
    "try:\n",
    "    y_pred = model.predict(X,plot=True)\n",
    "    from sklearn.metrics import f1_score\n",
    "    f1 = f1_score(y, y_pred, average='macro')\n",
    "    assert f1 >0.99, 'Expected an f1_score greater than 0.99 for simple case but got: {}'.format(f1)\n",
    "    print('f1score',f1_score(y, y_pred, average='macro'))\n",
    "except:\n",
    "    raise AssertionError('To use .predict(plot=True), pip install pygame')"
   ]
  },
  {
   "cell_type": "code",
   "execution_count": null,
   "metadata": {},
   "outputs": [],
   "source": [
    "model.selected_model_dna"
   ]
  },
  {
   "cell_type": "code",
   "execution_count": null,
   "metadata": {},
   "outputs": [],
   "source": []
  }
 ],
 "metadata": {
  "kernelspec": {
   "display_name": "Python 3",
   "language": "python",
   "name": "python3"
  },
  "language_info": {
   "codemirror_mode": {
    "name": "ipython",
    "version": 3
   },
   "file_extension": ".py",
   "mimetype": "text/x-python",
   "name": "python",
   "nbconvert_exporter": "python",
   "pygments_lexer": "ipython3",
   "version": "3.7.7"
  }
 },
 "nbformat": 4,
 "nbformat_minor": 2
}

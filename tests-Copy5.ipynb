{
 "cells": [
  {
   "cell_type": "code",
   "execution_count": 1,
   "metadata": {},
   "outputs": [],
   "source": [
    "from CellularModel import CellularModel\n",
    "import numpy as np\n",
    "\n",
    "# Correct values\n",
    "from sklearn.datasets import load_wine\n",
    "X = np.array([\n",
    "    [0, 1,0,0],[0, 1,0,0],[0, 1,0,0],[0, 1,0,0],[0, 1,0,0],[0, 1,0,0],\n",
    "    [1, 0,0,0],[1, 0,0,0],[1, 0,0,0],[1, 0,0,0],[1, 0,0,0],[1, 0,0,0],\n",
    "    [0,0,1,0],[0,0,1,0],[0,0,1,0],[0,0,1,0],[0,0,1,0],[0,0,1,0],\n",
    "    [0, 0, 0, 1],[0, 0, 0, 1],[0, 0, 0, 1],[0, 0, 0, 1],[0, 0, 0, 1],[0, 0, 0, 1],\n",
    "])\n",
    "y = [0,0,0,0,0,0,1,1,1,1,1,1,2,2,2,2,2,2,3,3,3,3,3,3]\n",
    "y = np.array(y).reshape(len(y), 1)"
   ]
  },
  {
   "cell_type": "code",
   "execution_count": null,
   "metadata": {
    "scrolled": false
   },
   "outputs": [
    {
     "name": "stdout",
     "output_type": "stream",
     "text": [
      "Depth: 14\n"
     ]
    },
    {
     "name": "stderr",
     "output_type": "stream",
     "text": [
      "/Users/danielscott/Desktop/Dan/cellular automata/CellularModel.py:802: RuntimeWarning: invalid value encountered in true_divide\n",
      "  y_pred_proba = y_pred_sums.astype(float) / y_pred_sums.astype(float).sum()\n"
     ]
    },
    {
     "name": "stdout",
     "output_type": "stream",
     "text": [
      "Generation: 1 Fitness: 0.25\n"
     ]
    },
    {
     "name": "stderr",
     "output_type": "stream",
     "text": [
      "/Users/danielscott/Desktop/Dan/cellular automata/CellularModel.py:802: RuntimeWarning: invalid value encountered in true_divide\n",
      "  y_pred_proba = y_pred_sums.astype(float) / y_pred_sums.astype(float).sum()\n"
     ]
    },
    {
     "name": "stdout",
     "output_type": "stream",
     "text": [
      "Generation: 2 Fitness: 0.25\n",
      "Generation: 3 Fitness: 0.25\n",
      "Generation: 4 Fitness: 0.25\n",
      "Generation: 5 Fitness: 0.5\n",
      "Generation: 6 Fitness: 0.5\n",
      "Generation: 7 Fitness: 0.5\n",
      "Generation: 8 Fitness: 0.5\n",
      "Generation: 9 Fitness: 0.5\n",
      "Generation: 10 Fitness: 0.25\n",
      "Generation: 11 Fitness: 0.5\n",
      "Generation: 12 Fitness: 0.25\n",
      "Generation: 13 Fitness: 0.25\n",
      "Generation: 14 Fitness: 0.5\n",
      "Generation: 15 Fitness: 0.5\n",
      "Generation: 16 Fitness: 0.5\n",
      "Generation: 17 Fitness: 0.5\n",
      "Generation: 18 Fitness: 0.5\n",
      "Generation: 19 Fitness: 0.5\n",
      "Generation: 20 Fitness: 0.5\n",
      "Generation: 21 Fitness: 0.5\n",
      "Generation: 22 Fitness: 0.5\n",
      "Generation: 23 Fitness: 0.5\n",
      "Generation: 24 Fitness: 0.25\n",
      "Generation: 25 Fitness: 0.5\n",
      "Generation: 26 Fitness: 0.5\n",
      "Generation: 27 Fitness: 0.5\n",
      "Generation: 28 Fitness: 0.5\n",
      "Generation: 29 Fitness: 0.5\n",
      "Generation: 30 Fitness: 0.5\n",
      "Generation: 31 Fitness: 0.5\n",
      "Generation: 32 Fitness: 0.5\n",
      "Generation: 33 Fitness: 0.5\n",
      "Generation: 34 Fitness: 0.5\n",
      "Generation: 35 Fitness: 0.5\n",
      "Generation: 36 Fitness: 0.5\n",
      "Generation: 37 Fitness: 0.5\n",
      "Generation: 38 Fitness: 0.5\n",
      "Generation: 39 Fitness: 0.5\n",
      "Generation: 40 Fitness: 0.5\n",
      "Generation: 41 Fitness: 0.5\n",
      "Generation: 42 Fitness: 0.5\n",
      "Generation: 43 Fitness: 0.5\n",
      "Generation: 44 Fitness: 0.5\n",
      "Generation: 45 Fitness: 0.5\n",
      "Generation: 46 Fitness: 0.5\n",
      "Generation: 47 Fitness: 0.5\n",
      "Generation: 48 Fitness: 0.5\n",
      "Generation: 49 Fitness: 0.5\n",
      "Generation: 50 Fitness: 0.5\n",
      "Generation: 51 Fitness: 0.5\n",
      "Generation: 52 Fitness: 0.5\n",
      "Generation: 53 Fitness: 0.5\n",
      "Generation: 54 Fitness: 0.5\n",
      "Generation: 55 Fitness: 0.5\n",
      "Generation: 56 Fitness: 0.5\n"
     ]
    }
   ],
   "source": [
    "model = CellularModel(N=150,\n",
    "                    mutate_proba=0.005,\n",
    "                    max_epochs=100000,\n",
    "                    silent=False,\n",
    "                    auto_plot=True,\n",
    "                    min_depth=14,\n",
    "                    max_depth=14,\n",
    "                    fitness_func='accuracy')\n",
    "model.fit(X, y,silent=True)"
   ]
  },
  {
   "cell_type": "code",
   "execution_count": null,
   "metadata": {},
   "outputs": [],
   "source": [
    "try:\n",
    "    y_pred = model.predict(X,plot=True)\n",
    "    from sklearn.metrics import f1_score\n",
    "    f1 = f1_score(y, y_pred, average='macro')\n",
    "    assert f1 >0.99, 'Expected an f1_score greater than 0.99 for simple case but got: {}'.format(f1)\n",
    "    print('f1score',f1_score(y, y_pred, average='macro'))\n",
    "except:\n",
    "    raise AssertionError('To use .predict(plot=True), pip install pygame')"
   ]
  },
  {
   "cell_type": "code",
   "execution_count": null,
   "metadata": {},
   "outputs": [],
   "source": []
  },
  {
   "cell_type": "code",
   "execution_count": null,
   "metadata": {},
   "outputs": [],
   "source": []
  }
 ],
 "metadata": {
  "kernelspec": {
   "display_name": "Python 3",
   "language": "python",
   "name": "python3"
  },
  "language_info": {
   "codemirror_mode": {
    "name": "ipython",
    "version": 3
   },
   "file_extension": ".py",
   "mimetype": "text/x-python",
   "name": "python",
   "nbconvert_exporter": "python",
   "pygments_lexer": "ipython3",
   "version": "3.6.8"
  }
 },
 "nbformat": 4,
 "nbformat_minor": 2
}

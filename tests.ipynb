{
 "cells": [
  {
   "cell_type": "markdown",
   "metadata": {},
   "source": [
    "# Load Iris Dataset"
   ]
  },
  {
   "cell_type": "code",
   "execution_count": 1,
   "metadata": {},
   "outputs": [],
   "source": [
    "import numpy as np\n",
    "from sklearn.model_selection import train_test_split\n",
    "from sklearn.datasets import load_iris\n",
    "X, y = load_iris(return_X_y=True)\n",
    "y = np.array(y).reshape(150, 1)"
   ]
  },
  {
   "cell_type": "markdown",
   "metadata": {},
   "source": [
    "# Split Data Into Train/Test Sets"
   ]
  },
  {
   "cell_type": "code",
   "execution_count": 2,
   "metadata": {},
   "outputs": [],
   "source": [
    "X_train, X_test, y_train, y_test = train_test_split(\n",
    "X, y, test_size=0.30)"
   ]
  },
  {
   "cell_type": "markdown",
   "metadata": {},
   "source": [
    "# Train on CellularModel"
   ]
  },
  {
   "cell_type": "code",
   "execution_count": null,
   "metadata": {
    "scrolled": false
   },
   "outputs": [
    {
     "name": "stdout",
     "output_type": "stream",
     "text": [
      "Depth: 14\n"
     ]
    },
    {
     "name": "stderr",
     "output_type": "stream",
     "text": [
      "/Users/danielscott/Desktop/Dan/cellular automata/CellularModel.py:802: RuntimeWarning: invalid value encountered in true_divide\n",
      "  y_pred_proba = y_pred_sums.astype(float) / y_pred_sums.astype(float).sum()\n"
     ]
    },
    {
     "name": "stdout",
     "output_type": "stream",
     "text": [
      "Generation: 1 Fitness: 0.66\n"
     ]
    },
    {
     "name": "stderr",
     "output_type": "stream",
     "text": [
      "/Users/danielscott/Desktop/Dan/cellular automata/CellularModel.py:802: RuntimeWarning: invalid value encountered in true_divide\n",
      "  y_pred_proba = y_pred_sums.astype(float) / y_pred_sums.astype(float).sum()\n"
     ]
    },
    {
     "name": "stdout",
     "output_type": "stream",
     "text": [
      "Generation: 2 Fitness: 0.56\n",
      "Generation: 3 Fitness: 0.59\n",
      "Generation: 4 Fitness: 0.44\n",
      "Generation: 5 Fitness: 0.44\n",
      "Generation: 6 Fitness: 0.66\n",
      "Generation: 7 Fitness: 0.66\n",
      "Generation: 8 Fitness: 0.56\n",
      "Generation: 9 Fitness: 0.59\n",
      "Generation: 10 Fitness: 0.59\n",
      "Generation: 11 Fitness: 0.66\n",
      "Generation: 12 Fitness: 0.5\n",
      "Generation: 13 Fitness: 0.56\n",
      "Generation: 14 Fitness: 0.69\n",
      "Generation: 15 Fitness: 0.69\n",
      "Generation: 16 Fitness: 0.66\n",
      "Generation: 17 Fitness: 0.69\n",
      "Generation: 18 Fitness: 0.69\n"
     ]
    }
   ],
   "source": [
    "from CellularModel import CellularModel\n",
    "model = CellularModel(fitness_func='accuracy',\n",
    "                      N=150,\n",
    "                      mutate_proba=0.001,\n",
    "                      min_depth=14,\n",
    "                      max_depth=14,\n",
    "                      max_epochs=1000,\n",
    "                      auto_plot=True)\n",
    "model.fit(X_train,y_train)"
   ]
  },
  {
   "cell_type": "markdown",
   "metadata": {},
   "source": [
    "# Evaluate Model Score"
   ]
  },
  {
   "cell_type": "code",
   "execution_count": null,
   "metadata": {},
   "outputs": [],
   "source": [
    "y_pred = model.predict(X_test)\n",
    "from sklearn.metrics import f1_score\n",
    "f1_score(y_test, y_pred, average='macro')"
   ]
  },
  {
   "cell_type": "code",
   "execution_count": null,
   "metadata": {},
   "outputs": [],
   "source": []
  },
  {
   "cell_type": "code",
   "execution_count": null,
   "metadata": {},
   "outputs": [],
   "source": []
  }
 ],
 "metadata": {
  "kernelspec": {
   "display_name": "Python 3",
   "language": "python",
   "name": "python3"
  },
  "language_info": {
   "codemirror_mode": {
    "name": "ipython",
    "version": 3
   },
   "file_extension": ".py",
   "mimetype": "text/x-python",
   "name": "python",
   "nbconvert_exporter": "python",
   "pygments_lexer": "ipython3",
   "version": "3.6.8"
  }
 },
 "nbformat": 4,
 "nbformat_minor": 2
}
